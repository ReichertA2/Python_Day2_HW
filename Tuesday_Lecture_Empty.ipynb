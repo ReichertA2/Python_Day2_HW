{
 "cells": [
  {
   "cell_type": "markdown",
   "metadata": {},
   "source": [
    "# Functions, Scoping, Data Collections 1 & List Comprehensions"
   ]
  },
  {
   "cell_type": "markdown",
   "metadata": {},
   "source": [
    "## Tasks Today:\n",
    "\n",
    "<i>Monday Additions (or, and ... if statements)</i>\n",
    "\n",
    "1) String Manipulation <br>\n",
    " &nbsp;&nbsp;&nbsp;&nbsp; a) strip() <br>\n",
    " &nbsp;&nbsp;&nbsp;&nbsp; b) title() <br>\n",
    "2) Working With Lists <br>\n",
    " &nbsp;&nbsp;&nbsp;&nbsp; a) min() <br>\n",
    " &nbsp;&nbsp;&nbsp;&nbsp; b) max() <br>\n",
    " &nbsp;&nbsp;&nbsp;&nbsp; c) sum() <br>\n",
    " &nbsp;&nbsp;&nbsp;&nbsp; d) sort() <br>\n",
    " &nbsp;&nbsp;&nbsp;&nbsp; e) Copying a List <br>\n",
    " &nbsp;&nbsp;&nbsp;&nbsp; f) 'in' keyword <br>\n",
    " &nbsp;&nbsp;&nbsp;&nbsp; g) 'not in' keyword <br>\n",
    " &nbsp;&nbsp;&nbsp;&nbsp; i) Checking an Empty List <br>\n",
    " &nbsp;&nbsp;&nbsp;&nbsp; j) Removing Instances with a Loop <br>\n",
    "3) List Comprehensions <br>\n",
    "4) Tuples <br>\n",
    " &nbsp;&nbsp;&nbsp;&nbsp; a) sorted() <br>\n",
    "5) Functions <br>\n",
    " &nbsp;&nbsp;&nbsp;&nbsp; a) User-Defined vs. Built-In Functions <br>\n",
    " &nbsp;&nbsp;&nbsp;&nbsp; b) Accepting Parameters <br>\n",
    " &nbsp;&nbsp;&nbsp;&nbsp; c) Default Parameters <br>\n",
    " &nbsp;&nbsp;&nbsp;&nbsp; d) Making an Argument Optional <br>\n",
    " &nbsp;&nbsp;&nbsp;&nbsp; e) Keyword Arguments <br>\n",
    " &nbsp;&nbsp;&nbsp;&nbsp; f) Returning Values <br>\n",
    " &nbsp;&nbsp;&nbsp;&nbsp; g) *args <br>\n",
    " &nbsp;&nbsp;&nbsp;&nbsp; h) Docstring <br>\n",
    " &nbsp;&nbsp;&nbsp;&nbsp; i) Using a User Function in a Loop <br>\n",
    "6) Scope"
   ]
  },
  {
   "cell_type": "markdown",
   "metadata": {},
   "source": [
    "### Try and Except\n",
    "\n",
    "3/3=0"
   ]
  },
  {
   "cell_type": "code",
   "execution_count": 1,
   "metadata": {},
   "outputs": [
    {
     "ename": "SyntaxError",
     "evalue": "invalid syntax (Temp/ipykernel_6864/3368981786.py, line 1)",
     "output_type": "error",
     "traceback": [
      "\u001b[1;36m  File \u001b[1;32m\"C:\\Users\\17134\\AppData\\Local\\Temp/ipykernel_6864/3368981786.py\"\u001b[1;36m, line \u001b[1;32m1\u001b[0m\n\u001b[1;33m    3/3/ =0\u001b[0m\n\u001b[1;37m         ^\u001b[0m\n\u001b[1;31mSyntaxError\u001b[0m\u001b[1;31m:\u001b[0m invalid syntax\n"
     ]
    }
   ],
   "source": [
    "3/3/ =0"
   ]
  },
  {
   "cell_type": "code",
   "execution_count": 10,
   "metadata": {},
   "outputs": [
    {
     "name": "stdout",
     "output_type": "stream",
     "text": [
      "you don't know how to divide go back to 3rd grade\n",
      "okay move along now we are done\n"
     ]
    }
   ],
   "source": [
    "try:\n",
    "#     int(\"Steve\")\n",
    "    3/0\n",
    "    print(\"It worked\")\n",
    "except ValueError:\n",
    "    print(\"I have an error\")\n",
    "except ZeroDivisionError:\n",
    "    print(\"you don't know how to divide go back to 3rd grade\")\n",
    "finally:\n",
    "    print(\"okay move along now we are done\")"
   ]
  },
  {
   "cell_type": "code",
   "execution_count": 11,
   "metadata": {},
   "outputs": [
    {
     "ename": "ValueError",
     "evalue": "You can not do that you freaking moron",
     "output_type": "error",
     "traceback": [
      "\u001b[1;31m---------------------------------------------------------------------------\u001b[0m",
      "\u001b[1;31mValueError\u001b[0m                                Traceback (most recent call last)",
      "\u001b[1;32m~\\AppData\\Local\\Temp/ipykernel_6864/1520732536.py\u001b[0m in \u001b[0;36m<module>\u001b[1;34m\u001b[0m\n\u001b[1;32m----> 1\u001b[1;33m \u001b[1;32mraise\u001b[0m \u001b[0mValueError\u001b[0m\u001b[1;33m(\u001b[0m\u001b[1;34m\"You can not do that you freaking moron\"\u001b[0m\u001b[1;33m)\u001b[0m\u001b[1;33m\u001b[0m\u001b[1;33m\u001b[0m\u001b[0m\n\u001b[0m",
      "\u001b[1;31mValueError\u001b[0m: You can not do that you freaking moron"
     ]
    }
   ],
   "source": [
    "raise ValueError(\"You can not do that you freaking moron\")"
   ]
  },
  {
   "cell_type": "markdown",
   "metadata": {},
   "source": [
    "##### Using 'or' in if statements"
   ]
  },
  {
   "cell_type": "code",
   "execution_count": null,
   "metadata": {},
   "outputs": [],
   "source": []
  },
  {
   "cell_type": "code",
   "execution_count": null,
   "metadata": {},
   "outputs": [],
   "source": []
  },
  {
   "cell_type": "markdown",
   "metadata": {},
   "source": [
    "##### Using 'and' in if statements"
   ]
  },
  {
   "cell_type": "code",
   "execution_count": null,
   "metadata": {},
   "outputs": [],
   "source": []
  },
  {
   "cell_type": "markdown",
   "metadata": {},
   "source": [
    "##### Using both 'or' and 'and' in if statements"
   ]
  },
  {
   "cell_type": "code",
   "execution_count": null,
   "metadata": {},
   "outputs": [],
   "source": []
  },
  {
   "cell_type": "markdown",
   "metadata": {},
   "source": [
    "### String Manipulation"
   ]
  },
  {
   "cell_type": "code",
   "execution_count": 12,
   "metadata": {},
   "outputs": [
    {
     "name": "stdout",
     "output_type": "stream",
     "text": [
      "frank plays too many video games\n"
     ]
    }
   ],
   "source": [
    "my_string = \"Frank plays too many Video Games\"\n",
    "print(my_string.lower())"
   ]
  },
  {
   "cell_type": "code",
   "execution_count": 13,
   "metadata": {},
   "outputs": [
    {
     "data": {
      "text/plain": [
       "'FRANK PLAYS TOO MANY VIDEO GAMES'"
      ]
     },
     "execution_count": 13,
     "metadata": {},
     "output_type": "execute_result"
    }
   ],
   "source": [
    "my_string.upper()"
   ]
  },
  {
   "cell_type": "code",
   "execution_count": 14,
   "metadata": {},
   "outputs": [
    {
     "data": {
      "text/plain": [
       "'Frank Plays Too Many Video Games'"
      ]
     },
     "execution_count": 14,
     "metadata": {},
     "output_type": "execute_result"
    }
   ],
   "source": [
    "my_string.title()"
   ]
  },
  {
   "cell_type": "code",
   "execution_count": 18,
   "metadata": {},
   "outputs": [
    {
     "name": "stdout",
     "output_type": "stream",
     "text": [
      "Frank Plays Too Many Video Games\n"
     ]
    }
   ],
   "source": [
    "my_string = my_string.title()\n",
    "print(my_string)"
   ]
  },
  {
   "cell_type": "markdown",
   "metadata": {},
   "source": [
    "##### .lstrip()"
   ]
  },
  {
   "cell_type": "code",
   "execution_count": 27,
   "metadata": {},
   "outputs": [
    {
     "name": "stdout",
     "output_type": "stream",
     "text": [
      "Hey zamika   Goodbye\n"
     ]
    }
   ],
   "source": [
    "name = \"   Razamika  \"\n",
    "print('Hey', name.lstrip('a R'), 'Goodbye')"
   ]
  },
  {
   "cell_type": "markdown",
   "metadata": {},
   "source": [
    "##### .rstrip()"
   ]
  },
  {
   "cell_type": "code",
   "execution_count": 29,
   "metadata": {},
   "outputs": [
    {
     "name": "stdout",
     "output_type": "stream",
     "text": [
      "Hey    Rami Goodbye\n"
     ]
    }
   ],
   "source": [
    "name = \"   Ramika  \"\n",
    "print('Hey', name.rstrip('a k'), 'Goodbye')"
   ]
  },
  {
   "cell_type": "code",
   "execution_count": null,
   "metadata": {},
   "outputs": [],
   "source": []
  },
  {
   "cell_type": "markdown",
   "metadata": {},
   "source": [
    "##### .strip()"
   ]
  },
  {
   "cell_type": "code",
   "execution_count": 30,
   "metadata": {},
   "outputs": [
    {
     "name": "stdout",
     "output_type": "stream",
     "text": [
      "Hey Ramik Goodbye\n"
     ]
    }
   ],
   "source": [
    "name = \"Ramika  \"\n",
    "print('Hey', name.strip(' a'), 'Goodbye')"
   ]
  },
  {
   "cell_type": "code",
   "execution_count": 31,
   "metadata": {},
   "outputs": [
    {
     "data": {
      "text/plain": [
       "''"
      ]
     },
     "execution_count": 31,
     "metadata": {},
     "output_type": "execute_result"
    }
   ],
   "source": [
    "\" \".strip()"
   ]
  },
  {
   "cell_type": "markdown",
   "metadata": {},
   "source": [
    "##### .title()"
   ]
  },
  {
   "cell_type": "code",
   "execution_count": null,
   "metadata": {},
   "outputs": [],
   "source": []
  },
  {
   "cell_type": "markdown",
   "metadata": {},
   "source": [
    "### String Exercise <br>\n",
    "<p>Strip all white space and capitalize every name in the list given</p>"
   ]
  },
  {
   "cell_type": "code",
   "execution_count": 55,
   "metadata": {},
   "outputs": [
    {
     "name": "stdout",
     "output_type": "stream",
     "text": [
      "['Connor', 'Max', 'Evan', 'Jordan']\n"
     ]
    }
   ],
   "source": [
    "names = ['    coNNor', 'max', ' EVan ', 'JORDAN']\n",
    "# HINT: You will need to use a for loop for iteration\n",
    "new_names = []\n",
    "for name in names:\n",
    "    new_names.append(name.title().strip())\n",
    "print(new_names)\n",
    "\n",
    "   \n"
   ]
  },
  {
   "cell_type": "markdown",
   "metadata": {},
   "source": [
    "### Working With Lists"
   ]
  },
  {
   "cell_type": "markdown",
   "metadata": {},
   "source": [
    "##### min()"
   ]
  },
  {
   "cell_type": "code",
   "execution_count": 60,
   "metadata": {},
   "outputs": [
    {
     "name": "stdout",
     "output_type": "stream",
     "text": [
      "1\n"
     ]
    }
   ],
   "source": [
    "my_list = [88, 56, 356.23, 6.3, 55, 4, 1]\n",
    "print(min(my_list))"
   ]
  },
  {
   "cell_type": "markdown",
   "metadata": {},
   "source": [
    "##### max()"
   ]
  },
  {
   "cell_type": "code",
   "execution_count": 61,
   "metadata": {},
   "outputs": [
    {
     "name": "stdout",
     "output_type": "stream",
     "text": [
      "356.23\n"
     ]
    }
   ],
   "source": [
    "print(max(my_list))"
   ]
  },
  {
   "cell_type": "markdown",
   "metadata": {},
   "source": [
    "##### sum()"
   ]
  },
  {
   "cell_type": "code",
   "execution_count": 63,
   "metadata": {},
   "outputs": [
    {
     "name": "stdout",
     "output_type": "stream",
     "text": [
      "566.53\n"
     ]
    }
   ],
   "source": [
    "my_sum = sum(my_list)\n",
    "print(my_sum)"
   ]
  },
  {
   "cell_type": "markdown",
   "metadata": {},
   "source": [
    "##### sorted()"
   ]
  },
  {
   "cell_type": "code",
   "execution_count": 67,
   "metadata": {},
   "outputs": [
    {
     "name": "stdout",
     "output_type": "stream",
     "text": [
      "[1, 4, 6.3, 55, 56, 88, 356.23]\n",
      "[88, 56, 356.23, 6.3, 55, 4, 1]\n",
      "[1, 4, 6.3, 55, 56, 88, 356.23]\n"
     ]
    }
   ],
   "source": [
    "# sorted(list)\n",
    "# RETURN A NEW COPY of the array in sorted order\n",
    "# Out of Place Algo--have to resign variable\n",
    "print(sorted(my_list))\n",
    "print(my_list)\n",
    "my_list = sorted(my_list)\n",
    "print(my_list)\n"
   ]
  },
  {
   "cell_type": "markdown",
   "metadata": {},
   "source": [
    "##### .sort() <br>\n",
    "<p>Difference between sort and sorted, is that sorted doesn't change original list it returns a copy, while .sort changes the original list</p>"
   ]
  },
  {
   "cell_type": "code",
   "execution_count": 70,
   "metadata": {},
   "outputs": [
    {
     "name": "stdout",
     "output_type": "stream",
     "text": [
      "[88, 56, 356.23, 6.3, 55, 4, 1]\n",
      "[1, 4, 6.3, 55, 56, 88, 356.23]\n",
      "None\n"
     ]
    }
   ],
   "source": [
    "my_list = [88, 56, 356.23, 6.3, 55, 4, 1]\n",
    "# list.sort()\n",
    "# CHANGE THE LIST TO A SORTED LIST (CHANGES ORIGINAL)\n",
    "# In-place Algo--affected the actual variable\n",
    "print(my_list)\n",
    "my_list.sort()\n",
    "print(my_list)\n",
    "\n",
    "my_list = my_list.sort()\n",
    "print(my_list)"
   ]
  },
  {
   "cell_type": "markdown",
   "metadata": {},
   "source": [
    "##### Copying a List"
   ]
  },
  {
   "cell_type": "code",
   "execution_count": 75,
   "metadata": {},
   "outputs": [
    {
     "name": "stdout",
     "output_type": "stream",
     "text": [
      "1962123453248\n",
      "1962123453248\n",
      "1962123453248\n",
      "1962123453248\n"
     ]
    }
   ],
   "source": [
    "# NOT THE WAY TO DO THIS\n",
    "my_list1 = [1,2,3,4,5]\n",
    "my_list2 = my_list1\n",
    "\n",
    "print(id(my_list1))\n",
    "print(id(my_list2))\n",
    "my_list2.append(77)\n",
    "print(id(my_list1))\n",
    "print(id(my_list2))"
   ]
  },
  {
   "cell_type": "code",
   "execution_count": 76,
   "metadata": {},
   "outputs": [
    {
     "name": "stdout",
     "output_type": "stream",
     "text": [
      "1962123379072\n",
      "1962124491392\n"
     ]
    }
   ],
   "source": [
    "\n",
    "my_list1 = [1,2,3,4,5]\n",
    "my_list2 = my_list1[:]\n",
    "print(id(my_list1))\n",
    "print(id(my_list2))"
   ]
  },
  {
   "cell_type": "code",
   "execution_count": 78,
   "metadata": {},
   "outputs": [
    {
     "name": "stdout",
     "output_type": "stream",
     "text": [
      "1962124492480\n",
      "1962123638784\n"
     ]
    }
   ],
   "source": [
    "my_list1 = [1,2,3,4,5]\n",
    "my_list2 = my_list1.copy()\n",
    "print(id(my_list1))\n",
    "print(id(my_list2))"
   ]
  },
  {
   "cell_type": "markdown",
   "metadata": {},
   "source": [
    "##### 'in' keyword"
   ]
  },
  {
   "cell_type": "code",
   "execution_count": 80,
   "metadata": {},
   "outputs": [
    {
     "name": "stdout",
     "output_type": "stream",
     "text": [
      "its in the list\n"
     ]
    }
   ],
   "source": [
    "# behind the scenes this is a loop so dont double loop since its not good practice to do double loop.\n",
    "if 3 in [1,2,3]:\n",
    "    print('its in the list')\n",
    "else:\n",
    "          print('not in the list')"
   ]
  },
  {
   "cell_type": "code",
   "execution_count": 84,
   "metadata": {},
   "outputs": [
    {
     "name": "stdout",
     "output_type": "stream",
     "text": [
      "Awesome you must be super cool\n"
     ]
    }
   ],
   "source": [
    "my_class=[\"Grady\", \"Dara\", \"Scarlett\", \"Patrick\"]\n",
    "if 'Patrick' in my_class:\n",
    "    print('Awesome you must be super cool')\n",
    "else:\n",
    "    print('You go issus bro')"
   ]
  },
  {
   "cell_type": "markdown",
   "metadata": {},
   "source": [
    "##### 'not in' keyword"
   ]
  },
  {
   "cell_type": "code",
   "execution_count": null,
   "metadata": {},
   "outputs": [],
   "source": []
  },
  {
   "cell_type": "markdown",
   "metadata": {},
   "source": [
    "##### Checking an Empty List"
   ]
  },
  {
   "cell_type": "code",
   "execution_count": 87,
   "metadata": {},
   "outputs": [
    {
     "data": {
      "text/plain": [
       "False"
      ]
     },
     "execution_count": 87,
     "metadata": {},
     "output_type": "execute_result"
    }
   ],
   "source": [
    "bool([])"
   ]
  },
  {
   "cell_type": "code",
   "execution_count": 88,
   "metadata": {},
   "outputs": [
    {
     "data": {
      "text/plain": [
       "True"
      ]
     },
     "execution_count": 88,
     "metadata": {},
     "output_type": "execute_result"
    }
   ],
   "source": [
    "bool([1,2,3])"
   ]
  },
  {
   "cell_type": "code",
   "execution_count": 19,
   "metadata": {},
   "outputs": [],
   "source": [
    "my_list=[]"
   ]
  },
  {
   "cell_type": "code",
   "execution_count": 20,
   "metadata": {},
   "outputs": [
    {
     "name": "stdout",
     "output_type": "stream",
     "text": [
      "I'm empty\n"
     ]
    }
   ],
   "source": [
    "if not my_list:\n",
    "    print(\"I'm empty\")\n",
    "if my_list:\n",
    "    print(\"I have stuff\")"
   ]
  },
  {
   "cell_type": "code",
   "execution_count": 21,
   "metadata": {},
   "outputs": [
    {
     "name": "stdout",
     "output_type": "stream",
     "text": [
      "empty\n",
      "I am empty\n"
     ]
    }
   ],
   "source": [
    "\n",
    "if len(my_list) ==0:\n",
    "    print('empty')\n",
    "    \n",
    "if my_list == []:\n",
    "    print(\"I am empty\")"
   ]
  },
  {
   "cell_type": "markdown",
   "metadata": {},
   "source": [
    "##### Removing Instances with a Loop"
   ]
  },
  {
   "cell_type": "code",
   "execution_count": 25,
   "metadata": {},
   "outputs": [
    {
     "name": "stdout",
     "output_type": "stream",
     "text": [
      "I removed an Alex the new class rooster is ['Grady', 'Dara', 'Scarlett', 'Patrick', 'Alex']\n",
      "I removed an Alex the new class rooster is ['Grady', 'Dara', 'Scarlett', 'Patrick']\n",
      "The final class roster is ['Grady', 'Dara', 'Scarlett', 'Patrick']\n"
     ]
    }
   ],
   "source": [
    "my_class=[\"Grady\", \"Dara\", \"Alex\",\"Scarlett\", \"Patrick\", \"Alex\"]\n",
    "\n",
    "while 'Alex' in my_class:\n",
    "    my_class.remove(\"Alex\")\n",
    "    print(\"I removed an Alex the new class rooster is\", my_class)\n",
    "print('The final class roster is', my_class)\n",
    "\n"
   ]
  },
  {
   "cell_type": "code",
   "execution_count": 26,
   "metadata": {},
   "outputs": [
    {
     "ename": "ValueError",
     "evalue": "list.remove(x): x not in list",
     "output_type": "error",
     "traceback": [
      "\u001b[1;31m---------------------------------------------------------------------------\u001b[0m",
      "\u001b[1;31mValueError\u001b[0m                                Traceback (most recent call last)",
      "\u001b[1;32m~\\AppData\\Local\\Temp/ipykernel_14348/3895087650.py\u001b[0m in \u001b[0;36m<module>\u001b[1;34m\u001b[0m\n\u001b[0;32m      1\u001b[0m \u001b[0mnew\u001b[0m\u001b[1;33m=\u001b[0m\u001b[1;33m[\u001b[0m\u001b[1;34m'a'\u001b[0m\u001b[1;33m,\u001b[0m\u001b[1;34m'b'\u001b[0m\u001b[1;33m,\u001b[0m \u001b[1;34m'c'\u001b[0m\u001b[1;33m]\u001b[0m\u001b[1;33m\u001b[0m\u001b[1;33m\u001b[0m\u001b[0m\n\u001b[1;32m----> 2\u001b[1;33m \u001b[0mnew\u001b[0m\u001b[1;33m.\u001b[0m\u001b[0mremove\u001b[0m\u001b[1;33m(\u001b[0m\u001b[1;34m'd'\u001b[0m\u001b[1;33m)\u001b[0m\u001b[1;33m\u001b[0m\u001b[1;33m\u001b[0m\u001b[0m\n\u001b[0m",
      "\u001b[1;31mValueError\u001b[0m: list.remove(x): x not in list"
     ]
    }
   ],
   "source": [
    "new=['a','b', 'c']\n",
    "new.remove('d')"
   ]
  },
  {
   "cell_type": "markdown",
   "metadata": {},
   "source": [
    "### List Exercise <br>\n",
    "<p>Remove all duplicates<br><b>Extra: Create a program that will remove any duplicates from a given list</b></p>"
   ]
  },
  {
   "cell_type": "code",
   "execution_count": 51,
   "metadata": {},
   "outputs": [
    {
     "name": "stdout",
     "output_type": "stream",
     "text": [
      "['connor', 'bob', 'evan', 'max', 2, 3, 4, 'kevin']\n"
     ]
    }
   ],
   "source": [
    "names = ['connor', 'connor', 'bob', 'connor', 'evan', 'max', 'evan', 2, 2, 2, 3, 3, 4, 'bob', 'kevin']\n",
    "# Hint 1: You will need an append\n",
    "# Hint 2: Using an empty list will make life easier\n",
    "def duplicates_bad(my_list):\n",
    "    new_list = []\n",
    "    for item in my_list:\n",
    "        if item not in new_list:\n",
    "            new_list.append(item)\n",
    "    print(new_list)\n",
    "   \n",
    "duplicates_bad(names)\n",
    "\n",
    "\n",
    "\n"
   ]
  },
  {
   "cell_type": "markdown",
   "metadata": {},
   "source": [
    "### List Comprehensions <br>\n",
    "<p>Creating a quickly generated list to work with<br>*result*  = [*transform*    *iteration*         *filter*     ]</p>"
   ]
  },
  {
   "cell_type": "markdown",
   "metadata": {},
   "source": [
    "##### In a list comprehension we have a few pieces:\n",
    "1. The first is the counter/ variable - IN this the variable is x\n",
    "2. then we have a transform for the variable\n",
    "3. The finale part of a list comp is called the condition\n",
    "\n",
    "```python\n",
    "    [variable, transform, condition]\n",
    "```"
   ]
  },
  {
   "cell_type": "code",
   "execution_count": 52,
   "metadata": {},
   "outputs": [
    {
     "name": "stdout",
     "output_type": "stream",
     "text": [
      "['G', 'D', 'S', 'P', 'k']\n"
     ]
    }
   ],
   "source": [
    "my_class=[\"Grady\", \"Dara\",\"Scarlett\", \"Patrick\", \"ku\"]\n",
    "\n",
    "new_list = []\n",
    "for person in my_class:\n",
    "    new_list.append(person[0])\n",
    "    \n",
    "print(new_list)"
   ]
  },
  {
   "cell_type": "code",
   "execution_count": 54,
   "metadata": {},
   "outputs": [
    {
     "name": "stdout",
     "output_type": "stream",
     "text": [
      "['G', 'D', 'S', 'P', 'k']\n"
     ]
    }
   ],
   "source": [
    "my_class=[\"Grady\", \"Dara\",\"Scarlett\", \"Patrick\", \"ku\"]\n",
    "\n",
    "first_char_comp = [person[0] for person in my_class]\n",
    "print(first_char_comp)"
   ]
  },
  {
   "cell_type": "markdown",
   "metadata": {},
   "source": [
    "There are a few benefits to using List comprehensions. The most obvious would be that we now have shorter code to work with instead of using 3+ lines of code in the for loop variant.\n",
    "\n",
    "Another is an added benefit to memory usage. Since the list's memory is allocated first before adding elements to it, we don't have to resize the list once we add elements to it.\n",
    "\n",
    "Lastly, list comprehensions are considered the \"pythonic\" way to write code by the PEP8 standards (Python Style Guide)"
   ]
  },
  {
   "cell_type": "code",
   "execution_count": 56,
   "metadata": {},
   "outputs": [
    {
     "name": "stdout",
     "output_type": "stream",
     "text": [
      "['Grady', 'Frank', 'Aydee']\n"
     ]
    }
   ],
   "source": [
    "my_class=[\"Grady\", \"Dara\",\"Scarlett\", \"Patrick\", \"ku\", \"Frank\", \"Aydee\"]\n",
    "\n",
    "five_letter_names=[]\n",
    "\n",
    "for name in my_class:\n",
    "    if len(name) ==5:\n",
    "        five_letter_names.append(name)\n",
    "#     else:\n",
    "#         five_letter_names.append('not a five letter name')\n",
    "print(five_letter_names)"
   ]
  },
  {
   "cell_type": "code",
   "execution_count": 57,
   "metadata": {},
   "outputs": [
    {
     "data": {
      "text/plain": [
       "['Grady', 'Frank', 'Aydee']"
      ]
     },
     "execution_count": 57,
     "metadata": {},
     "output_type": "execute_result"
    }
   ],
   "source": [
    "#a list comp with an if and no else\n",
    "\n",
    "five_letter_names_comp = [name for name in my_class if len(name)==5]\n",
    "five_letter_names_comp\n"
   ]
  },
  {
   "cell_type": "code",
   "execution_count": 58,
   "metadata": {},
   "outputs": [
    {
     "name": "stdout",
     "output_type": "stream",
     "text": [
      "['Grady', 'not a five letter name', 'not a five letter name', 'not a five letter name', 'not a five letter name', 'Frank', 'Aydee']\n"
     ]
    }
   ],
   "source": [
    "my_class=[\"Grady\", \"Dara\",\"Scarlett\", \"Patrick\", \"ku\", \"Frank\", \"Aydee\"]\n",
    "\n",
    "five_letter_names=[]\n",
    "\n",
    "for name in my_class:\n",
    "    if len(name) ==5:\n",
    "        five_letter_names.append(name)\n",
    "    else:\n",
    "        five_letter_names.append('not a five letter name')\n",
    "print(five_letter_names)"
   ]
  },
  {
   "cell_type": "code",
   "execution_count": 59,
   "metadata": {},
   "outputs": [
    {
     "data": {
      "text/plain": [
       "['Grady', 'Not 5', 'Not 5', 'Not 5', 'Not 5', 'Frank', 'Aydee']"
      ]
     },
     "execution_count": 59,
     "metadata": {},
     "output_type": "execute_result"
    }
   ],
   "source": [
    "five_letter_names_comp_with_else = [name if len(name) == 5 else \"Not 5\" for name in my_class]\n",
    "five_letter_names_comp_with_else"
   ]
  },
  {
   "cell_type": "code",
   "execution_count": 61,
   "metadata": {},
   "outputs": [
    {
     "name": "stdout",
     "output_type": "stream",
     "text": [
      "['T', 'o', 'd', 'a', 'y', 'i', 's', 't', 'h', 'e', 'd', 'a', 'y', 't', 'h', 'a', 't', \"'\", 's', 'g', 'o', 'n', 'n', 'a', 'b', 'r', 'i', 'n', 'g', 'm', 'e', 'b', 'a', 'c', 'k', 't', 'o', 'y', 'o', 'u']\n"
     ]
    }
   ],
   "source": [
    "sentence = [\"Today\",\"is\",\"the\",\"day\",\"that's\",\"gonna\",\"bring\",\"me\",\"back\",\"to\",\"you\"]\n",
    "letters=[]\n",
    "for word in sentence:\n",
    "    for letter in word:\n",
    "        letters.append(letter)\n",
    "        \n",
    "print(letters)"
   ]
  },
  {
   "cell_type": "code",
   "execution_count": 66,
   "metadata": {},
   "outputs": [
    {
     "name": "stdout",
     "output_type": "stream",
     "text": [
      "['T', 'o', 'd', 'a', 'y', 'i', 's', 't', 'h', 'e', 'd', 'a', 'y', 't', 'h', 'a', 't', \"'\", 's', 'g', 'o', 'n', 'n', 'a', 'b', 'r', 'i', 'n', 'g', 'm', 'e', 'b', 'a', 'c', 'k', 't', 'o', 'y', 'o', 'u']\n"
     ]
    }
   ],
   "source": [
    "letters_comp = [letter for word in sentence for letter in word]\n",
    "print(letters_comp)"
   ]
  },
  {
   "cell_type": "markdown",
   "metadata": {},
   "source": [
    "### Tuples <br>\n",
    "<p><b>Defined as an immutable list</b></p><br>Seperated by commas using parenthesis"
   ]
  },
  {
   "cell_type": "code",
   "execution_count": null,
   "metadata": {},
   "outputs": [],
   "source": []
  },
  {
   "cell_type": "markdown",
   "metadata": {},
   "source": [
    "##### sorted()"
   ]
  },
  {
   "cell_type": "code",
   "execution_count": null,
   "metadata": {},
   "outputs": [],
   "source": []
  },
  {
   "cell_type": "markdown",
   "metadata": {},
   "source": [
    "##### Adding values to a Tuple"
   ]
  },
  {
   "cell_type": "code",
   "execution_count": null,
   "metadata": {},
   "outputs": [],
   "source": [
    "#Reconstruct the tuple and add values\n"
   ]
  },
  {
   "cell_type": "markdown",
   "metadata": {},
   "source": [
    "## Functions"
   ]
  },
  {
   "cell_type": "markdown",
   "metadata": {},
   "source": [
    "##### User-Defined vs. Built-In Functions"
   ]
  },
  {
   "cell_type": "code",
   "execution_count": 68,
   "metadata": {},
   "outputs": [
    {
     "name": "stdout",
     "output_type": "stream",
     "text": [
      "Hello\n"
     ]
    }
   ],
   "source": [
    "\n",
    "def say_hello():\n",
    "    print('Hello')\n",
    "    return None\n",
    "\n",
    "say_hello()"
   ]
  },
  {
   "cell_type": "code",
   "execution_count": 69,
   "metadata": {},
   "outputs": [
    {
     "name": "stdout",
     "output_type": "stream",
     "text": [
      "Hello\n",
      "None\n"
     ]
    }
   ],
   "source": [
    "print(say_hello())"
   ]
  },
  {
   "cell_type": "code",
   "execution_count": 73,
   "metadata": {},
   "outputs": [
    {
     "name": "stdout",
     "output_type": "stream",
     "text": [
      "Hello\n",
      "The end\n"
     ]
    }
   ],
   "source": [
    "def say_hello():\n",
    "    return 'Hello'\n",
    "\n",
    "print(say_hello())\n",
    "\n",
    "print('The end')"
   ]
  },
  {
   "cell_type": "code",
   "execution_count": 75,
   "metadata": {},
   "outputs": [
    {
     "name": "stdout",
     "output_type": "stream",
     "text": [
      "Hello\n",
      "Hello\n",
      "The end\n",
      "True\n"
     ]
    }
   ],
   "source": [
    "def do_stuff():\n",
    "    return 'Hello'\n",
    "\n",
    "print(do_stuff())\n",
    "'Hello'\n",
    "\n",
    "print('Hello')\n",
    "\n",
    "print('The end')\n",
    "\n",
    "print(do_stuff() == 'Hello')"
   ]
  },
  {
   "cell_type": "markdown",
   "metadata": {},
   "source": [
    "##### Accepting Parameters"
   ]
  },
  {
   "cell_type": "code",
   "execution_count": 79,
   "metadata": {},
   "outputs": [
    {
     "name": "stdout",
     "output_type": "stream",
     "text": [
      "Armani Ross\n",
      "Scarlett Scoville\n"
     ]
    }
   ],
   "source": [
    "# Order matters\n",
    "# A variable can be any type of object\n",
    "\n",
    "def print_full_name(first_name, last_name):\n",
    "    print(f'{first_name} {last_name}')\n",
    "print_full_name('Armani', 'Ross')\n",
    "    \n",
    "print_full_name('Scarlett', 'Scoville')"
   ]
  },
  {
   "cell_type": "code",
   "execution_count": 80,
   "metadata": {},
   "outputs": [
    {
     "name": "stdout",
     "output_type": "stream",
     "text": [
      "Ross Armani\n",
      "Scarlett Scoville\n"
     ]
    }
   ],
   "source": [
    "# Order matters\n",
    "# A variable can be any type of object\n",
    "\n",
    "def print_full_name(first_name, last_name):\n",
    "    print(f'{first_name} {last_name}')\n",
    "print_full_name('Ross', 'Armani')\n",
    "    \n",
    "print_full_name('Scarlett', 'Scoville')"
   ]
  },
  {
   "cell_type": "code",
   "execution_count": 81,
   "metadata": {},
   "outputs": [
    {
     "name": "stdout",
     "output_type": "stream",
     "text": [
      "Armani Ross\n",
      "Scarlett Scoville\n"
     ]
    }
   ],
   "source": [
    "# Order matters\n",
    "# A variable can be any type of object\n",
    "\n",
    "def print_full_name(first_name, last_name):\n",
    "    print(f'{first_name} {last_name}')\n",
    "print_full_name(last_name='Ross',first_name= 'Armani')\n",
    "    \n",
    "print_full_name('Scarlett', 'Scoville')"
   ]
  },
  {
   "cell_type": "markdown",
   "metadata": {},
   "source": [
    "##### Default Parameters"
   ]
  },
  {
   "cell_type": "code",
   "execution_count": 85,
   "metadata": {},
   "outputs": [
    {
     "name": "stdout",
     "output_type": "stream",
     "text": [
      "You agent name is Beir, Kevin, Beir\n"
     ]
    }
   ],
   "source": [
    "def agent_name(first, last=\"Bond\"):\n",
    "    print(f\"You agent name is {last}, {first}, {last}\")\n",
    "agent_name('Kevin', 'Beir')\n",
    "\n",
    "##default arguments always come last"
   ]
  },
  {
   "cell_type": "markdown",
   "metadata": {},
   "source": [
    "##### Making an Argument Optional"
   ]
  },
  {
   "cell_type": "code",
   "execution_count": 91,
   "metadata": {},
   "outputs": [
    {
     "name": "stdout",
     "output_type": "stream",
     "text": [
      "Hello Mister Horse Dorsey\n"
     ]
    }
   ],
   "source": [
    "def make_name(first, middle=' ', last='ed'):\n",
    "    print(f\"Hello {first} {middle} {last}\")\n",
    "    \n",
    "make_name('Mister', 'Horse', 'Dorsey')"
   ]
  },
  {
   "cell_type": "code",
   "execution_count": 97,
   "metadata": {},
   "outputs": [
    {
     "data": {
      "text/plain": [
       "float"
      ]
     },
     "execution_count": 97,
     "metadata": {},
     "output_type": "execute_result"
    }
   ],
   "source": [
    "def what_datatype():\n",
    "    return['hey', 123, [1,2], 123, 123.54]\n",
    "type(what_datatype()[1]/2)"
   ]
  },
  {
   "cell_type": "code",
   "execution_count": 99,
   "metadata": {},
   "outputs": [
    {
     "name": "stdout",
     "output_type": "stream",
     "text": [
      "hello\n"
     ]
    }
   ],
   "source": [
    "def dead_code():\n",
    "    print('hello')\n",
    "    return\n",
    "    print('goodbye') #unreachable!! or Dead code since you cant get past return statement\n",
    "dead_code()\n",
    "\n",
    "#when you hit return function stops"
   ]
  },
  {
   "cell_type": "markdown",
   "metadata": {},
   "source": [
    "##### Keyword Arguments"
   ]
  },
  {
   "cell_type": "code",
   "execution_count": 98,
   "metadata": {},
   "outputs": [
    {
     "name": "stdout",
     "output_type": "stream",
     "text": [
      "hello\n"
     ]
    }
   ],
   "source": []
  },
  {
   "cell_type": "markdown",
   "metadata": {},
   "source": [
    "# Creating a start, stop, step function"
   ]
  },
  {
   "cell_type": "code",
   "execution_count": null,
   "metadata": {},
   "outputs": [],
   "source": []
  },
  {
   "cell_type": "markdown",
   "metadata": {},
   "source": [
    "##### Returning Values"
   ]
  },
  {
   "cell_type": "code",
   "execution_count": 100,
   "metadata": {},
   "outputs": [
    {
     "name": "stdout",
     "output_type": "stream",
     "text": [
      "1 2 3 4 5 6 7\n"
     ]
    }
   ],
   "source": [
    "print(1,2,3,4,5,6,7)"
   ]
  },
  {
   "cell_type": "markdown",
   "metadata": {},
   "source": [
    "##### *args and kwargs\n"
   ]
  },
  {
   "cell_type": "code",
   "execution_count": 102,
   "metadata": {},
   "outputs": [
    {
     "name": "stdout",
     "output_type": "stream",
     "text": [
      "Vanessa\n",
      "the next arg is: [1, 2, 3] <class 'list'>\n",
      "the next arg is: 34.5 <class 'float'>\n",
      "the next arg is: I am too cool <class 'str'>\n",
      "the next arg is: Kevin is the best <class 'str'>\n"
     ]
    }
   ],
   "source": [
    "##### *args and kwargs\n",
    "#stands for arguments, takes ANY number of arguments as parameters\n",
    "#must be last if multiple parameters are presents\n",
    "def my_func(name, *args):\n",
    "    print(name)\n",
    "    for arg in args:\n",
    "        print('the next arg is:' ,arg, type(arg))\n",
    "    \n",
    "my_func('Vanessa', [1,2,3], 34.5, \"I am too cool\", \"Kevin is the best\")\n",
    "    \n"
   ]
  },
  {
   "cell_type": "code",
   "execution_count": 103,
   "metadata": {},
   "outputs": [
    {
     "name": "stdout",
     "output_type": "stream",
     "text": [
      "Niko\n",
      "weight 170\n",
      "height 69\n",
      "foods ['ice cream', 'burritos', 'pizza']\n"
     ]
    }
   ],
   "source": [
    "def my_func(name, **kwargs):\n",
    "    print(name)\n",
    "    for key in kwargs:\n",
    "        print(key, kwargs[key])\n",
    "my_func('Niko', weight=170, height='69', foods=['ice cream', 'burritos', 'pizza'])\n"
   ]
  },
  {
   "cell_type": "markdown",
   "metadata": {},
   "source": [
    "##### Docstring"
   ]
  },
  {
   "cell_type": "code",
   "execution_count": 105,
   "metadata": {},
   "outputs": [
    {
     "name": "stdout",
     "output_type": "stream",
     "text": [
      "Help on function my_function in module __main__:\n",
      "\n",
      "my_function(name, age)\n",
      "    takes in a name and an age and returns a formatted strings that tells the name and age\n",
      "    [name] = string\n",
      "    [age] = integer\n",
      "\n"
     ]
    }
   ],
   "source": [
    "def my_function(name, age):\n",
    "    '''\n",
    "    takes in a name and an age and returns a formatted strings that tells the name and age\n",
    "    [name] = string\n",
    "    [age] = integer\n",
    "    '''\n",
    "    return f'{name} is {age}'\n",
    "my_function('Dora', 12)\n",
    "\n",
    "help(my_function)"
   ]
  },
  {
   "cell_type": "markdown",
   "metadata": {},
   "source": [
    "##### Using a User Function in a Loop"
   ]
  },
  {
   "cell_type": "code",
   "execution_count": 109,
   "metadata": {},
   "outputs": [
    {
     "name": "stdout",
     "output_type": "stream",
     "text": [
      "what is your number??23\n",
      "25\n",
      "ready to quit?[type quit]quit\n"
     ]
    }
   ],
   "source": [
    "def add_two(n):\n",
    "    print(n+2)\n",
    "    \n",
    "while True:\n",
    "    ask= int(input('what is your number??'))\n",
    "    add_two(ask)\n",
    "    response = input('ready to quit? [type quit]')\n",
    "    if response.lower() == 'quit':\n",
    "             break"
   ]
  },
  {
   "cell_type": "markdown",
   "metadata": {},
   "source": [
    "## Function Exercise <br>\n",
    "<p>Write a function that loops through a list of first_names and a list of last_names, combines the two and return a list of full_names</p>"
   ]
  },
  {
   "cell_type": "code",
   "execution_count": null,
   "metadata": {},
   "outputs": [],
   "source": [
    "first_name = ['John', 'Evan', 'Jordan', 'Max']\n",
    "last_name = ['Smith', 'Smith', 'Williams', 'Bell']\n",
    "\n",
    "# Output: ['John Smith', 'Evan Smith', 'Jordan Williams', 'Max Bell']      "
   ]
  },
  {
   "cell_type": "markdown",
   "metadata": {},
   "source": [
    "## Scope <br>\n",
    "<p>Scope refers to the ability to access variables, different types of scope include:<br>a) Global<br>b) Function (local)<br>c) Class (local)</p>"
   ]
  },
  {
   "cell_type": "code",
   "execution_count": null,
   "metadata": {},
   "outputs": [],
   "source": [
    "#placement of variable declaration matters\n"
   ]
  },
  {
   "cell_type": "markdown",
   "metadata": {},
   "source": [
    "# Exercises"
   ]
  },
  {
   "cell_type": "markdown",
   "metadata": {},
   "source": [
    "## Exercise 1 <br>\n",
    "<p>Given a list as a parameter,write a function that returns a list of numbers that are less than ten</b></i></p><br>\n",
    "<p> For example: Say your input parameter to the function is [1,11,14,5,8,9]...Your output should [1,5,8,9]</p>"
   ]
  },
  {
   "cell_type": "code",
   "execution_count": null,
   "metadata": {},
   "outputs": [],
   "source": [
    "# Use the following list - [1,11,14,5,8,9]\n",
    "num_list = [1,11,14,5,8,9]\n",
    "new_list = []\n",
    "\n",
    "def number(n):\n",
    "    #look at list and if its less than 10 I will return a number into a list.\n",
    "    #if number is less than 10 then it will go into a list\n",
    "    for num in num_list:\n",
    "        if num < 10:\n",
    "            new_list.append(num)\n",
    "    print(new_list)\n",
    "    \n",
    "    #if number not less than 10 than it will not go into list\n",
    "    \n",
    "    \n",
    "number(num_list)\n"
   ]
  },
  {
   "cell_type": "markdown",
   "metadata": {},
   "source": [
    "## Exercise 2 <br>\n",
    "<p>Write a function that takes in two lists and returns the two lists merged together and sorted<br>\n",
    "<b><i>Hint: You can use the .sort() method</i></b></p>"
   ]
  },
  {
   "cell_type": "code",
   "execution_count": null,
   "metadata": {},
   "outputs": [],
   "source": [
    "list1 = ['Peter', 'Cindy', 'Anna', 'Pamela']\n",
    "list2 = ['Jessica', 'Wendy', 'Sam', 'John']\n",
    "\n",
    "\n",
    "def merge(name_list):\n",
    "    \n",
    "    for name in list2:\n",
    "        list1.append(name)\n",
    "    list1.sort()\n",
    "    print(list1)\n",
    "\n",
    "merge(list1)\n",
    "\n"
   ]
  }
 ],
 "metadata": {
  "kernelspec": {
   "display_name": "Python 3 (ipykernel)",
   "language": "python",
   "name": "python3"
  },
  "language_info": {
   "codemirror_mode": {
    "name": "ipython",
    "version": 3
   },
   "file_extension": ".py",
   "mimetype": "text/x-python",
   "name": "python",
   "nbconvert_exporter": "python",
   "pygments_lexer": "ipython3",
   "version": "3.9.7"
  }
 },
 "nbformat": 4,
 "nbformat_minor": 2
}
